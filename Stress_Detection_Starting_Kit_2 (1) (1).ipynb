{
 "cells": [
  {
   "cell_type": "markdown",
   "metadata": {},
   "source": [
    "# Stress Detection in Working Environments Using Physiological Sensors\n",
    "\n",
    "### Ilyass El Mansouri - Sajeevan Puvikaran - Belkacem Zehani - Salim Tabarani - Yanis Daci "
   ]
  },
  {
   "cell_type": "markdown",
   "metadata": {},
   "source": [
    "## Business Introduction"
   ]
  },
  {
   "cell_type": "markdown",
   "metadata": {},
   "source": [
    "#### Background definition\n",
    "The challenge nature of the global economy and the use of advanced technologies have changed the way we work. This has resulted in an increase workload, it has become a problem in many organizations, where employees have encountered psychological problems related to work stress. In particular, stress has been high in North America, where 55% of the population has reported that work-related stress had an impact on their physical and mental health. \n",
    "<br/>\n",
    "\n",
    "<br/>\n",
    "It has been proven that work-related stress engander disease activation. Several studies have shown that stress can lead to several negative health effects, such as high blood pressure, lack of sleep, susceptibility to infections, and cardiovascular disease. All these situations result to musculoskeletal diseases, immunological problems and mental health problems such as anxiety and depressive disorders. We noticed for example in the studies of European Foundation for the Improvement of Living and Working Conditions that a decline in physical and mental health due to work-related stress leads to a decrease in the performance and overall productivity of organizations and increased cost in terms of absenteeism.\n",
    "<br/>\n",
    "\n",
    "#### Business Need\n",
    "<br/>\n",
    "Considering detrimental effects of prolonged exposure to stress both for employees and organizations, there is a clear need for a system to regularily monitor the well-being of workers and act when levels of stress are too high in the overall ecosystem. In order to do this, we consider ourselves in the case of a company that is concerned about the well-being of its employees and offers annual medical check-ups in which they monitor a daily life of some of their employees. If daily stress levels are alarming, she will take the necessary steps to address them.\n",
    "<br/>"
   ]
  },
  {
   "cell_type": "markdown",
   "metadata": {},
   "source": [
    "## Introducing the Data : WESAD"
   ]
  },
  {
   "cell_type": "markdown",
   "metadata": {},
   "source": [
    "In everyday language, stress typically indicates strain caused by physical or psychological pressures at work, at school, or in personal life as well as by one’s environment. From this point of view, stress can be seen as a defensive process to protect oneself from potential injury and threats to emotional well-being. Thus, it is not surprising that stress is related to the capacity to adapt and respond to various circumstances.\n",
    "<br/>\n",
    "\n",
    "<table>\n",
    "    <tr>\n",
    "    <td>\n",
    "        <img id ='im1' src='stressometer.png' width=\"300\" >\n",
    "    </td>\n",
    "    </tr>\n",
    "</table>\n",
    "\n",
    "In October 2018, a group of researchers introduced a WEarable Stress and Affect Detection (WESAD) dataset that provides a multimodal high-quality dataset with various affective states. The experiment tested for three affective states amusement, stress, and neutral. It also could help determine whether a test subject was or was not stressed. \n",
    "<br/>"
   ]
  },
  {
   "cell_type": "markdown",
   "metadata": {},
   "source": [
    "The WESAD dataset was composed after a stress test that was performed on to twelve males and three females. To collect their data, they used both a chest and a wrist-worn devices: a RespiBAN Professional2 and an Empatica E4. \n",
    "<br/>\n",
    "The RespiBAN itself is equipped with sensors to measure accelerometer and respiratory data. All signals were sampled at 700 Hz.\n",
    "<br/>\n",
    "All subjects wore the Empatica E4 on their non-dominant hand. The Empatica E4 recorded blood volume pulse at 64Hz, temperature at 4Hz, and electrodermal activity at 4Hz.\n",
    "<br/>\n",
    "\n",
    "<table>\n",
    "    <tr>\n",
    "    <td>\n",
    "        <img id ='im1' src='ima_appareil.png' width=\"500\" >\n",
    "    </td>\n",
    "    </tr>\n",
    "</table>\n",
    "\n",
    "In addition, the subjects were asked to follow a guided meditation in order to de-excite them after the stress and amusement conditions. After the subjects had been equipped with the sensors, a 20 minute baseline test was recorded. During the baseline, the subjects were asked to sit or stand at a table. After the baseline condition results were recorded, there was an amusement condition test. During the amusement condition, the subjects watched a set of eleven funny video clips. In total, the amusement condition had a length of 392 seconds.\n",
    "<br/>\n",
    "At the end of the protocol, the sensors were again synchronised via a double tap gesture. In total, the study had a duration of about two hours.\n",
    "\n",
    "Raw sensor data was recorded with two devices: a chest-worn device (RespiBAN) and a wrist-worn device (Empatica E4). \n",
    "\n",
    "\n",
    "\n",
    "#### RespiBAN :\n",
    "\n",
    "In order to convert the raw sensor values into SI units, each channel has to transformed based on the formulas given below (signal contains the raw sensor values, $vcc=3$, $\\text{chan_bit}=2^{16}$).\n",
    "- <b>ECG (mV):</b> $$(\\frac{\\text{signal}}{\\text{chan_bit}}-0.5)*vcc$$\n",
    "- <b>EDA (μS):</b> $$\\frac{\\frac{\\text{signal}}{\\text{chan_bit}}*vcc}{0.12}$$   \n",
    "- <b>EMG (mV):</b> $$\\frac{\\text{signal}}{\\text{chan_bit}}*vcc$$\n",
    "- <b>TEMP (°C):</b>\n",
    "$$v_{out} = \\frac{\\text{signal}*vcc}{\\text{chan_bit}-1.}$$\n",
    "$$rntc = \\frac{(10^4)*v_{out}}{vcc-vout}- 273.15 + \\frac{1}{1.12*10^{-3}} + 2.34*10^{-4}*\\log(rntc)+ 8.77*10^{-8}*\\log(rntc)^3$$\n",
    "- <b>XYZ (g):</b> $$\\frac{\\text{signal}-C_{min}}{C_{max}-C_{min}}*2-1$$ Where $C_{min} = 28000$ and $C_{max} = 38000$\n",
    "\n",
    "\n",
    "- <b>RESPIRATION (%):</b> $$\\frac{\\text{signal}} {\\text{chan_bit} - 0.5} * 100$$\n",
    "\n",
    "#### Empatic E4 :"
   ]
  },
  {
   "cell_type": "markdown",
   "metadata": {},
   "source": [
    "The E4 device was worn on the subjects’ non-dominant wrist, The double-tap signal pattern was used to manually synchronise the two devices’ raw data."
   ]
  },
  {
   "cell_type": "markdown",
   "metadata": {},
   "source": [
    "The double-tap signal pattern was used to manually synchronise the two devices’ raw data. The result is provided in the files SX.pkl, one file per subject. This file is a dictionary, with the following keys:\n",
    "- subject: SX, the subject ID\n",
    "- signal: includes all the raw data, in two fields:\n",
    "    - Chest: RespiBAN data (all the modalities: ACC, ECG, EDA, EMG, RESP, TEMP)\n",
    "    - Wrist : EmpaticaE4data(allthemodalities:ACC, BVP, EDA, TEMP)\n",
    "- label : ID of the respective study protocol condition, sampled at 700 Hz. The following IDs\n",
    "are provided: 0 = not defined / transient, 1 = baseline, 2 = stress, 3 = amusement, 4 = meditation"
   ]
  },
  {
   "cell_type": "markdown",
   "metadata": {},
   "source": [
    "## Exploring the Dataset"
   ]
  },
  {
   "cell_type": "code",
   "execution_count": 1,
   "metadata": {},
   "outputs": [],
   "source": [
    "import numpy as np\n",
    "import pandas as pd\n",
    "import scipy"
   ]
  },
  {
   "cell_type": "code",
   "execution_count": 2,
   "metadata": {},
   "outputs": [],
   "source": [
    "import warnings\n",
    "warnings.filterwarnings('ignore')"
   ]
  },
  {
   "cell_type": "code",
   "execution_count": 3,
   "metadata": {},
   "outputs": [],
   "source": [
    "agg_data = pd.read_csv(r\"SUBJECTS_15_Data_sampled.csv\", sep=',', encoding=\"utf-8\", error_bad_lines=False, low_memory = False)"
   ]
  },
  {
   "cell_type": "code",
   "execution_count": 4,
   "metadata": {},
   "outputs": [],
   "source": [
    "agg_data = agg_data.drop(columns=['SUBJECT'])\n",
    "\n",
    "agg_data= agg_data.drop(columns=['Sample', 'GROUP_FREQ'])\n",
    "noise = np.random.randn(agg_data.loc[:, agg_data.columns != 'Label'].shape[0], agg_data.loc[:, agg_data.columns != 'Label'].shape[1])\n",
    "agg_data.loc[:, agg_data.columns != 'Label'] +=0.5* noise"
   ]
  },
  {
   "cell_type": "code",
   "execution_count": 5,
   "metadata": {
    "scrolled": false
   },
   "outputs": [
    {
     "data": {
      "text/html": [
       "<div>\n",
       "<style scoped>\n",
       "    .dataframe tbody tr th:only-of-type {\n",
       "        vertical-align: middle;\n",
       "    }\n",
       "\n",
       "    .dataframe tbody tr th {\n",
       "        vertical-align: top;\n",
       "    }\n",
       "\n",
       "    .dataframe thead th {\n",
       "        text-align: right;\n",
       "    }\n",
       "</style>\n",
       "<table border=\"1\" class=\"dataframe\">\n",
       "  <thead>\n",
       "    <tr style=\"text-align: right;\">\n",
       "      <th></th>\n",
       "      <th>ECG</th>\n",
       "      <th>EMG</th>\n",
       "      <th>RESP</th>\n",
       "      <th>Wrist_ACC_X</th>\n",
       "      <th>Wrist_ACC_Y</th>\n",
       "      <th>Wrist_ACC_Z</th>\n",
       "      <th>BVP</th>\n",
       "      <th>TEMP</th>\n",
       "      <th>Label</th>\n",
       "    </tr>\n",
       "  </thead>\n",
       "  <tbody>\n",
       "    <tr>\n",
       "      <th>0</th>\n",
       "      <td>-2.056404</td>\n",
       "      <td>-1.386906</td>\n",
       "      <td>-49.014920</td>\n",
       "      <td>9.642655</td>\n",
       "      <td>-3.406866</td>\n",
       "      <td>6.454657</td>\n",
       "      <td>11.025110</td>\n",
       "      <td>33.045950</td>\n",
       "      <td>0</td>\n",
       "    </tr>\n",
       "    <tr>\n",
       "      <th>1</th>\n",
       "      <td>-2.616893</td>\n",
       "      <td>-0.526535</td>\n",
       "      <td>-50.008533</td>\n",
       "      <td>4.497229</td>\n",
       "      <td>4.606888</td>\n",
       "      <td>2.194279</td>\n",
       "      <td>7.585705</td>\n",
       "      <td>34.159354</td>\n",
       "      <td>0</td>\n",
       "    </tr>\n",
       "    <tr>\n",
       "      <th>2</th>\n",
       "      <td>-0.749616</td>\n",
       "      <td>-2.632050</td>\n",
       "      <td>-49.323822</td>\n",
       "      <td>8.890774</td>\n",
       "      <td>-2.890480</td>\n",
       "      <td>0.257730</td>\n",
       "      <td>5.471520</td>\n",
       "      <td>33.001818</td>\n",
       "      <td>0</td>\n",
       "    </tr>\n",
       "    <tr>\n",
       "      <th>3</th>\n",
       "      <td>-1.992701</td>\n",
       "      <td>-1.416784</td>\n",
       "      <td>-49.904727</td>\n",
       "      <td>6.096096</td>\n",
       "      <td>0.297534</td>\n",
       "      <td>0.732023</td>\n",
       "      <td>0.300146</td>\n",
       "      <td>33.021762</td>\n",
       "      <td>0</td>\n",
       "    </tr>\n",
       "    <tr>\n",
       "      <th>4</th>\n",
       "      <td>-1.719664</td>\n",
       "      <td>-0.959851</td>\n",
       "      <td>-50.044601</td>\n",
       "      <td>5.424680</td>\n",
       "      <td>2.520652</td>\n",
       "      <td>6.584089</td>\n",
       "      <td>-13.842268</td>\n",
       "      <td>33.228527</td>\n",
       "      <td>0</td>\n",
       "    </tr>\n",
       "  </tbody>\n",
       "</table>\n",
       "</div>"
      ],
      "text/plain": [
       "        ECG       EMG       RESP  Wrist_ACC_X  Wrist_ACC_Y  Wrist_ACC_Z  \\\n",
       "0 -2.056404 -1.386906 -49.014920     9.642655    -3.406866     6.454657   \n",
       "1 -2.616893 -0.526535 -50.008533     4.497229     4.606888     2.194279   \n",
       "2 -0.749616 -2.632050 -49.323822     8.890774    -2.890480     0.257730   \n",
       "3 -1.992701 -1.416784 -49.904727     6.096096     0.297534     0.732023   \n",
       "4 -1.719664 -0.959851 -50.044601     5.424680     2.520652     6.584089   \n",
       "\n",
       "         BVP       TEMP  Label  \n",
       "0  11.025110  33.045950      0  \n",
       "1   7.585705  34.159354      0  \n",
       "2   5.471520  33.001818      0  \n",
       "3   0.300146  33.021762      0  \n",
       "4 -13.842268  33.228527      0  "
      ]
     },
     "execution_count": 5,
     "metadata": {},
     "output_type": "execute_result"
    }
   ],
   "source": [
    "agg_data.head()"
   ]
  },
  {
   "cell_type": "code",
   "execution_count": 6,
   "metadata": {},
   "outputs": [],
   "source": [
    "from sklearn.model_selection import train_test_split\n",
    "\n",
    "data_train, data_test, labels_train, labels_test = train_test_split(agg_data.loc[:, agg_data.columns != 'Label'],\n",
    "                                                                    agg_data[\"Label\"],\n",
    "                                                                    test_size=0.33, random_state=42)"
   ]
  },
  {
   "cell_type": "code",
   "execution_count": 7,
   "metadata": {},
   "outputs": [],
   "source": [
    "test=pd.concat([data_test,labels_test],axis=1)\n",
    "train=pd.concat([data_train,labels_train],axis=1)"
   ]
  },
  {
   "cell_type": "code",
   "execution_count": 8,
   "metadata": {},
   "outputs": [],
   "source": [
    "test.to_csv('data/test.csv')\n",
    "train.to_csv('data/train.csv')"
   ]
  },
  {
   "cell_type": "markdown",
   "metadata": {},
   "source": [
    "## Workflow"
   ]
  },
  {
   "cell_type": "code",
   "execution_count": 9,
   "metadata": {},
   "outputs": [],
   "source": [
    "from sklearn.base import BaseEstimator\n",
    "from sklearn.base import TransformerMixin\n",
    "\n",
    "\n",
    "class FeatureExtractor(BaseEstimator, TransformerMixin):\n",
    "    def __init__(self):\n",
    "        pass\n",
    "\n",
    "    def fit(self, X_df, y):\n",
    "        return self\n",
    "\n",
    "    def transform(self, X_df):\n",
    "        X_df_new = X_df.copy()\n",
    "        X_df_new = compute_rolling_mean(X_df_new, 'Wrist_ACC_X', '5')\n",
    "        return X_df_new\n",
    "\n",
    "\n",
    "def compute_rolling_mean(data, feature, row_window):\n",
    "    name = '_'.join([feature, row_window, 'mean'])\n",
    "    data[name] = data[feature].rolling(int(row_window)).mean()\n",
    "    data[name] = data[name].ffill().bfill()\n",
    "    data[name].astype(data[feature].dtype)\n",
    "    return data\n"
   ]
  },
  {
   "cell_type": "code",
   "execution_count": 56,
   "metadata": {},
   "outputs": [],
   "source": [
    "from sklearn.base import BaseEstimator\n",
    "from sklearn.tree import DecisionTreeClassifier\n",
    "from sklearn.pipeline import make_pipeline\n",
    "from sklearn.preprocessing import StandardScaler\n",
    "\n",
    "\n",
    "class Classifier(BaseEstimator):\n",
    "    def __init__(self):\n",
    "        self.model = make_pipeline(StandardScaler(), DecisionTreeClassifier())\n",
    "\n",
    "    def fit(self, X, y):\n",
    "        self.model.fit(X, y)\n",
    "\n",
    "    def predict(self, X):\n",
    "        return self.model.predict(X)"
   ]
  },
  {
   "cell_type": "code",
   "execution_count": 57,
   "metadata": {},
   "outputs": [],
   "source": [
    "from sklearn.pipeline import make_pipeline\n",
    "\n",
    "model = make_pipeline(FeatureExtractor(), Classifier())"
   ]
  },
  {
   "cell_type": "code",
   "execution_count": 58,
   "metadata": {},
   "outputs": [
    {
     "data": {
      "text/plain": [
       "Pipeline(memory=None,\n",
       "     steps=[('featureextractor', FeatureExtractor()), ('classifier', Classifier())])"
      ]
     },
     "execution_count": 58,
     "metadata": {},
     "output_type": "execute_result"
    }
   ],
   "source": [
    "model.fit(data_train, labels_train)"
   ]
  },
  {
   "cell_type": "code",
   "execution_count": 59,
   "metadata": {},
   "outputs": [],
   "source": [
    "y_pred = model.predict(data_test)"
   ]
  },
  {
   "cell_type": "markdown",
   "metadata": {},
   "source": [
    "## Evaluation"
   ]
  },
  {
   "cell_type": "code",
   "execution_count": 62,
   "metadata": {},
   "outputs": [
    {
     "name": "stdout",
     "output_type": "stream",
     "text": [
      "\u001b[38;5;178m\u001b[1mTesting stress rate prediction\u001b[0m\n",
      "\u001b[38;5;178m\u001b[1mReading train and test files from ./data ...\u001b[0m\n",
      "\u001b[38;5;178m\u001b[1mReading cv ...\u001b[0m\n",
      "\u001b[38;5;178m\u001b[1mTraining ./submissions/starting_kit ...\u001b[0m\n",
      "\u001b[38;5;178m\u001b[1mCV fold 0\u001b[0m\n",
      "\t\u001b[38;5;178m\u001b[1mscore  recall  precision  f1_score  Precision_Stress  final_score\u001b[0m\n",
      "\t\u001b[38;5;10m\u001b[1mtrain\u001b[0m    \u001b[38;5;10m\u001b[1m\u001b[38;5;150m0.92\u001b[0m\u001b[0m       \u001b[38;5;150m0.93\u001b[0m      \u001b[38;5;10m\u001b[1m\u001b[38;5;150m0.92\u001b[0m\u001b[0m              \u001b[38;5;150m\u001b[38;5;150m0.91\u001b[0m\u001b[0m         \u001b[38;5;150m\u001b[38;5;150m0.91\u001b[0m\u001b[0m\n",
      "\t\u001b[38;5;12m\u001b[1mvalid\u001b[0m    \u001b[38;5;12m\u001b[1m\u001b[38;5;105m0.60\u001b[0m\u001b[0m       \u001b[38;5;105m0.64\u001b[0m      \u001b[38;5;12m\u001b[1m\u001b[38;5;105m0.60\u001b[0m\u001b[0m              \u001b[38;5;105m0.54\u001b[0m         \u001b[38;5;105m0.56\u001b[0m\n",
      "\t\u001b[38;5;1m\u001b[1mtest\u001b[0m     \u001b[38;5;1m\u001b[1m\u001b[38;5;218m0.60\u001b[0m\u001b[0m       \u001b[38;5;218m0.64\u001b[0m      \u001b[38;5;1m\u001b[1m\u001b[38;5;218m0.60\u001b[0m\u001b[0m              \u001b[38;5;218m0.55\u001b[0m         \u001b[38;5;218m0.57\u001b[0m\n",
      "\u001b[38;5;178m\u001b[1mCV fold 1\u001b[0m\n",
      "\t\u001b[38;5;178m\u001b[1mscore  recall  precision  f1_score  Precision_Stress  final_score\u001b[0m\n",
      "\t\u001b[38;5;10m\u001b[1mtrain\u001b[0m    \u001b[38;5;10m\u001b[1m\u001b[38;5;150m\u001b[38;5;150m0.92\u001b[0m\u001b[0m\u001b[0m       \u001b[38;5;10m\u001b[1m\u001b[38;5;150m\u001b[38;5;150m0.92\u001b[0m\u001b[0m\u001b[0m      \u001b[38;5;10m\u001b[1m\u001b[38;5;150m\u001b[38;5;150m0.92\u001b[0m\u001b[0m\u001b[0m              \u001b[38;5;150m\u001b[38;5;150m0.91\u001b[0m\u001b[0m         \u001b[38;5;150m\u001b[38;5;150m0.91\u001b[0m\u001b[0m\n",
      "\t\u001b[38;5;12m\u001b[1mvalid\u001b[0m    \u001b[38;5;12m\u001b[1m\u001b[38;5;105m0.60\u001b[0m\u001b[0m       \u001b[38;5;105m0.64\u001b[0m      \u001b[38;5;12m\u001b[1m\u001b[38;5;105m0.60\u001b[0m\u001b[0m              \u001b[38;5;105m0.54\u001b[0m         \u001b[38;5;105m0.57\u001b[0m\n",
      "\t\u001b[38;5;1m\u001b[1mtest\u001b[0m     \u001b[38;5;1m\u001b[1m\u001b[38;5;218m0.60\u001b[0m\u001b[0m       \u001b[38;5;218m0.64\u001b[0m      \u001b[38;5;1m\u001b[1m\u001b[38;5;218m0.60\u001b[0m\u001b[0m              \u001b[38;5;218m0.54\u001b[0m         \u001b[38;5;218m0.57\u001b[0m\n",
      "\u001b[38;5;178m\u001b[1mCV fold 2\u001b[0m\n",
      "\t\u001b[38;5;178m\u001b[1mscore  recall  precision  f1_score  Precision_Stress  final_score\u001b[0m\n",
      "\t\u001b[38;5;10m\u001b[1mtrain\u001b[0m    \u001b[38;5;10m\u001b[1m\u001b[38;5;150m\u001b[38;5;150m0.91\u001b[0m\u001b[0m\u001b[0m       \u001b[38;5;150m0.92\u001b[0m      \u001b[38;5;10m\u001b[1m\u001b[38;5;150m\u001b[38;5;150m0.91\u001b[0m\u001b[0m\u001b[0m              \u001b[38;5;150m0.90\u001b[0m         \u001b[38;5;10m\u001b[1m\u001b[38;5;150m\u001b[38;5;150m0.91\u001b[0m\u001b[0m\u001b[0m\n",
      "\t\u001b[38;5;12m\u001b[1mvalid\u001b[0m    \u001b[38;5;12m\u001b[1m\u001b[38;5;105m0.60\u001b[0m\u001b[0m       \u001b[38;5;105m0.64\u001b[0m      \u001b[38;5;12m\u001b[1m\u001b[38;5;105m0.60\u001b[0m\u001b[0m              \u001b[38;5;105m0.55\u001b[0m         \u001b[38;5;105m0.57\u001b[0m\n",
      "\t\u001b[38;5;1m\u001b[1mtest\u001b[0m     \u001b[38;5;1m\u001b[1m\u001b[38;5;218m0.60\u001b[0m\u001b[0m       \u001b[38;5;218m0.64\u001b[0m      \u001b[38;5;1m\u001b[1m\u001b[38;5;218m0.60\u001b[0m\u001b[0m              \u001b[38;5;218m0.54\u001b[0m         \u001b[38;5;218m0.57\u001b[0m\n",
      "\u001b[38;5;178m\u001b[1mCV fold 3\u001b[0m\n",
      "\t\u001b[38;5;178m\u001b[1mscore  recall  precision  f1_score  Precision_Stress  final_score\u001b[0m\n",
      "\t\u001b[38;5;10m\u001b[1mtrain\u001b[0m    \u001b[38;5;10m\u001b[1m\u001b[38;5;150m\u001b[38;5;150m0.92\u001b[0m\u001b[0m\u001b[0m       \u001b[38;5;10m\u001b[1m\u001b[38;5;150m\u001b[38;5;150m0.92\u001b[0m\u001b[0m\u001b[0m      \u001b[38;5;10m\u001b[1m\u001b[38;5;150m\u001b[38;5;150m0.92\u001b[0m\u001b[0m\u001b[0m              \u001b[38;5;150m\u001b[38;5;150m0.91\u001b[0m\u001b[0m         \u001b[38;5;150m\u001b[38;5;150m0.91\u001b[0m\u001b[0m\n",
      "\t\u001b[38;5;12m\u001b[1mvalid\u001b[0m    \u001b[38;5;12m\u001b[1m\u001b[38;5;105m0.60\u001b[0m\u001b[0m       \u001b[38;5;105m0.64\u001b[0m      \u001b[38;5;12m\u001b[1m\u001b[38;5;105m0.60\u001b[0m\u001b[0m              \u001b[38;5;105m0.54\u001b[0m         \u001b[38;5;105m0.57\u001b[0m\n",
      "\t\u001b[38;5;1m\u001b[1mtest\u001b[0m     \u001b[38;5;1m\u001b[1m\u001b[38;5;218m0.60\u001b[0m\u001b[0m       \u001b[38;5;218m0.64\u001b[0m      \u001b[38;5;1m\u001b[1m\u001b[38;5;218m0.60\u001b[0m\u001b[0m              \u001b[38;5;218m0.54\u001b[0m         \u001b[38;5;218m0.57\u001b[0m\n",
      "\u001b[38;5;178m\u001b[1mCV fold 4\u001b[0m\n",
      "\t\u001b[38;5;178m\u001b[1mscore  recall  precision  f1_score  Precision_Stress  final_score\u001b[0m\n",
      "\t\u001b[38;5;10m\u001b[1mtrain\u001b[0m    \u001b[38;5;10m\u001b[1m\u001b[38;5;150m\u001b[38;5;150m0.92\u001b[0m\u001b[0m\u001b[0m       \u001b[38;5;10m\u001b[1m\u001b[38;5;150m\u001b[38;5;150m0.92\u001b[0m\u001b[0m\u001b[0m      \u001b[38;5;10m\u001b[1m\u001b[38;5;150m\u001b[38;5;150m0.92\u001b[0m\u001b[0m\u001b[0m              \u001b[38;5;150m\u001b[38;5;150m0.91\u001b[0m\u001b[0m         \u001b[38;5;150m\u001b[38;5;150m0.91\u001b[0m\u001b[0m\n",
      "\t\u001b[38;5;12m\u001b[1mvalid\u001b[0m    \u001b[38;5;12m\u001b[1m0.61\u001b[0m       \u001b[38;5;105m0.64\u001b[0m      \u001b[38;5;105m0.60\u001b[0m              \u001b[38;5;105m0.55\u001b[0m         \u001b[38;5;105m0.57\u001b[0m\n",
      "\t\u001b[38;5;1m\u001b[1mtest\u001b[0m     \u001b[38;5;1m\u001b[1m\u001b[38;5;218m0.60\u001b[0m\u001b[0m       \u001b[38;5;218m0.64\u001b[0m      \u001b[38;5;1m\u001b[1m\u001b[38;5;218m0.60\u001b[0m\u001b[0m              \u001b[38;5;218m0.55\u001b[0m         \u001b[38;5;218m0.57\u001b[0m\n",
      "\u001b[38;5;178m\u001b[1m----------------------------\u001b[0m\n",
      "\u001b[38;5;178m\u001b[1mMean CV scores\u001b[0m\n",
      "\u001b[38;5;178m\u001b[1m----------------------------\u001b[0m\n",
      "\t\u001b[38;5;178m\u001b[1mscore        recall     precision      ...      Precision_Stress   final_score\u001b[0m\n",
      "\t\u001b[38;5;178m\u001b[1mstep                                   ...                                    \u001b[0m\n",
      "\t\u001b[38;5;10m\u001b[1mtrain\u001b[0m  \u001b[38;5;10m\u001b[1m\u001b[38;5;150m0.92\u001b[0m\u001b[0m \u001b[38;5;150m\u001b[38;5;150m\u001b[38;5;150m\u001b[38;5;150m±\u001b[0m\u001b[0m\u001b[0m\u001b[0m \u001b[38;5;150m\u001b[38;5;150m\u001b[38;5;150m0.002\u001b[0m\u001b[0m\u001b[0m  \u001b[38;5;10m\u001b[1m\u001b[38;5;150m0.92\u001b[0m\u001b[0m \u001b[38;5;150m\u001b[38;5;150m\u001b[38;5;150m\u001b[38;5;150m±\u001b[0m\u001b[0m\u001b[0m\u001b[0m \u001b[38;5;150m0.001\u001b[0m      \u001b[38;5;150m...\u001b[0m          \u001b[38;5;150m\u001b[38;5;150m0.91\u001b[0m\u001b[0m \u001b[38;5;150m\u001b[38;5;150m\u001b[38;5;150m\u001b[38;5;150m±\u001b[0m\u001b[0m\u001b[0m\u001b[0m \u001b[38;5;150m\u001b[38;5;150m\u001b[38;5;150m0.002\u001b[0m\u001b[0m\u001b[0m  \u001b[38;5;150m\u001b[38;5;150m0.91\u001b[0m\u001b[0m \u001b[38;5;150m\u001b[38;5;150m\u001b[38;5;150m\u001b[38;5;150m±\u001b[0m\u001b[0m\u001b[0m\u001b[0m \u001b[38;5;150m\u001b[38;5;150m\u001b[38;5;150m0.002\u001b[0m\u001b[0m\u001b[0m\n",
      "\t\u001b[38;5;12m\u001b[1mvalid\u001b[0m   \u001b[38;5;12m\u001b[1m0.6\u001b[0m \u001b[38;5;105m\u001b[38;5;105m\u001b[38;5;105m\u001b[38;5;105m±\u001b[0m\u001b[0m\u001b[0m\u001b[0m \u001b[38;5;105m\u001b[38;5;105m\u001b[38;5;105m0.002\u001b[0m\u001b[0m\u001b[0m  \u001b[38;5;12m\u001b[1m0.6\u001b[0m4 \u001b[38;5;105m\u001b[38;5;105m\u001b[38;5;105m\u001b[38;5;105m±\u001b[0m\u001b[0m\u001b[0m\u001b[0m \u001b[38;5;105m0.001\u001b[0m      \u001b[38;5;105m...\u001b[0m          \u001b[38;5;105m0.55\u001b[0m \u001b[38;5;105m\u001b[38;5;105m\u001b[38;5;105m\u001b[38;5;105m±\u001b[0m\u001b[0m\u001b[0m\u001b[0m \u001b[38;5;105m\u001b[38;5;105m\u001b[38;5;105m0.002\u001b[0m\u001b[0m\u001b[0m  \u001b[38;5;105m0.57\u001b[0m \u001b[38;5;105m\u001b[38;5;105m\u001b[38;5;105m\u001b[38;5;105m±\u001b[0m\u001b[0m\u001b[0m\u001b[0m \u001b[38;5;105m\u001b[38;5;105m\u001b[38;5;105m0.002\u001b[0m\u001b[0m\u001b[0m\n",
      "\t\u001b[38;5;1m\u001b[1mtest\u001b[0m    \u001b[38;5;1m\u001b[1m0.6\u001b[0m \u001b[38;5;218m\u001b[38;5;218m\u001b[38;5;218m\u001b[38;5;218m±\u001b[0m\u001b[0m\u001b[0m\u001b[0m \u001b[38;5;218m\u001b[38;5;218m\u001b[38;5;218m\u001b[38;5;218m0.001\u001b[0m\u001b[0m\u001b[0m\u001b[0m  \u001b[38;5;1m\u001b[1m0.6\u001b[0m4 \u001b[38;5;218m\u001b[38;5;218m\u001b[38;5;218m\u001b[38;5;218m±\u001b[0m\u001b[0m\u001b[0m\u001b[0m \u001b[38;5;218m\u001b[38;5;218m\u001b[38;5;218m\u001b[38;5;218m0.001\u001b[0m\u001b[0m\u001b[0m\u001b[0m      \u001b[38;5;218m...\u001b[0m          \u001b[38;5;218m0.54\u001b[0m \u001b[38;5;218m\u001b[38;5;218m\u001b[38;5;218m\u001b[38;5;218m±\u001b[0m\u001b[0m\u001b[0m\u001b[0m \u001b[38;5;218m\u001b[38;5;218m\u001b[38;5;218m\u001b[38;5;218m0.001\u001b[0m\u001b[0m\u001b[0m\u001b[0m  \u001b[38;5;218m0.57\u001b[0m \u001b[38;5;218m\u001b[38;5;218m\u001b[38;5;218m\u001b[38;5;218m±\u001b[0m\u001b[0m\u001b[0m\u001b[0m \u001b[38;5;218m\u001b[38;5;218m\u001b[38;5;218m\u001b[38;5;218m0.001\u001b[0m\u001b[0m\u001b[0m\u001b[0m\n",
      "\u001b[38;5;178m\u001b[1m----------------------------\u001b[0m\n",
      "\u001b[38;5;178m\u001b[1mBagged scores\u001b[0m\n",
      "\u001b[38;5;178m\u001b[1m----------------------------\u001b[0m\n",
      "\t\u001b[38;5;178m\u001b[1mscore  recall\u001b[0m\n",
      "\t\u001b[38;5;12m\u001b[1mvalid\u001b[0m    \u001b[38;5;12m\u001b[1m0.61\u001b[0m\n",
      "\t\u001b[38;5;1m\u001b[1mtest\u001b[0m     \u001b[38;5;1m\u001b[1m0.66\u001b[0m\n"
     ]
    }
   ],
   "source": [
    "!ramp_test_submission --submission=starting_kit"
   ]
  },
  {
   "cell_type": "code",
   "execution_count": null,
   "metadata": {},
   "outputs": [],
   "source": []
  }
 ],
 "metadata": {
  "kernelspec": {
   "display_name": "Python 3",
   "language": "python",
   "name": "python3"
  },
  "language_info": {
   "codemirror_mode": {
    "name": "ipython",
    "version": 3
   },
   "file_extension": ".py",
   "mimetype": "text/x-python",
   "name": "python",
   "nbconvert_exporter": "python",
   "pygments_lexer": "ipython3",
   "version": "3.6.0"
  }
 },
 "nbformat": 4,
 "nbformat_minor": 2
}
